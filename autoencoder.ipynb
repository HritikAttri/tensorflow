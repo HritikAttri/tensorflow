{
 "cells": [
  {
   "cell_type": "markdown",
   "metadata": {
    "colab_type": "text",
    "id": "ASETcKbr5Lbq"
   },
   "source": [
    "# Importing the libraries"
   ]
  },
  {
   "cell_type": "code",
   "execution_count": 1,
   "metadata": {
    "colab": {
     "base_uri": "https://localhost:8080/",
     "height": 33
    },
    "colab_type": "code",
    "id": "S1kxgWg-5Heu",
    "outputId": "4a69fb1f-ae0f-4424-f7ca-1aa582abe278"
   },
   "outputs": [
    {
     "name": "stdout",
     "output_type": "stream",
     "text": [
      "2.0.0-alpha0\n"
     ]
    }
   ],
   "source": [
    "import numpy as np\n",
    "import tensorflow as tf\n",
    "import matplotlib.pyplot as plt\n",
    "from tensorflow.keras.datasets import mnist\n",
    "\n",
    "print(tf.__version__)"
   ]
  },
  {
   "cell_type": "markdown",
   "metadata": {
    "colab_type": "text",
    "id": "QNobAoLN5VWD"
   },
   "source": [
    "# Data Preprocessing"
   ]
  },
  {
   "cell_type": "code",
   "execution_count": 2,
   "metadata": {
    "colab": {
     "base_uri": "https://localhost:8080/",
     "height": 319
    },
    "colab_type": "code",
    "id": "9CsnZvPr5UTg",
    "outputId": "23076f6d-35f1-425d-9f07-92519b46f162"
   },
   "outputs": [
    {
     "name": "stdout",
     "output_type": "stream",
     "text": [
      "Downloading data from https://storage.googleapis.com/tensorflow/tf-keras-datasets/mnist.npz\n",
      "11493376/11490434 [==============================] - 0s 0us/step\n"
     ]
    },
    {
     "data": {
      "text/plain": [
       "<matplotlib.image.AxesImage at 0x7fd633edca20>"
      ]
     },
     "execution_count": 2,
     "metadata": {
      "tags": []
     },
     "output_type": "execute_result"
    },
    {
     "data": {
      "image/png": "[encoded data removed]",
      "text/plain": [
       "<Figure size 432x288 with 1 Axes>"
      ]
     },
     "metadata": {
      "tags": []
     },
     "output_type": "display_data"
    }
   ],
   "source": [
    "# Load the data\n",
    "(X_train, y_train),(X_test, y_test) = mnist.load_data()\n",
    "\n",
    "# Normalize the images\n",
    "X_train = X_train / 255.\n",
    "X_test = X_test / 255.\n",
    "\n",
    "# Plot a sample image\n",
    "plt.imshow(X_train[0], cmap=\"gray\")"
   ]
  },
  {
   "cell_type": "markdown",
   "metadata": {
    "colab_type": "text",
    "id": "fnggElyT5kVk"
   },
   "source": [
    "### Generate noise dataset"
   ]
  },
  {
   "cell_type": "code",
   "execution_count": null,
   "metadata": {
    "colab": {},
    "colab_type": "code",
    "id": "Rh1rB0dg5UbK"
   },
   "outputs": [],
   "source": [
    "noise_factor = 0.3"
   ]
  },
  {
   "cell_type": "code",
   "execution_count": 4,
   "metadata": {
    "colab": {
     "base_uri": "https://localhost:8080/",
     "height": 286
    },
    "colab_type": "code",
    "id": "oK9K2U8e6GDV",
    "outputId": "80f6cf05-990d-4077-bbcb-621876f44a2d"
   },
   "outputs": [
    {
     "data": {
      "text/plain": [
       "<matplotlib.image.AxesImage at 0x7fd631672a90>"
      ]
     },
     "execution_count": 4,
     "metadata": {
      "tags": []
     },
     "output_type": "execute_result"
    },
    {
     "data": {
      "image/png": "[encoded data removed]",
      "text/plain": [
       "<Figure size 432x288 with 1 Axes>"
      ]
     },
     "metadata": {
      "tags": []
     },
     "output_type": "display_data"
    }
   ],
   "source": [
    "noise_dataset = []\n",
    "\n",
    "for img in X_train:\n",
    "    noisy_image = img + noise_factor * np.random.randn(*img.shape)\n",
    "    noisy_image = np.clip(noisy_image, 0., 1.)\n",
    "    noise_dataset.append(noisy_image)\n",
    "\n",
    "# Convert to array\n",
    "noise_dataset = np.array(noise_dataset)\n",
    "\n",
    "# Plot a sample image\n",
    "plt.imshow(noise_dataset[1], cmap=\"gray\")"
   ]
  },
  {
   "cell_type": "code",
   "execution_count": null,
   "metadata": {
    "colab": {},
    "colab_type": "code",
    "id": "5Vx8wtVH5U1G"
   },
   "outputs": [],
   "source": [
    "noise_test_set = []\n",
    "\n",
    "for img in X_test:\n",
    "    noisy_image = img + noise_factor * np.random.randn(*img.shape)\n",
    "    noisy_image = np.clip(noisy_image, 0., 1.)\n",
    "    noise_test_set.append(noisy_image)\n",
    "    \n",
    "noise_test_set = np.array(noise_test_set)"
   ]
  },
  {
   "cell_type": "markdown",
   "metadata": {
    "colab_type": "text",
    "id": "mifMzErB6U5C"
   },
   "source": [
    "# Autoencoder"
   ]
  },
  {
   "cell_type": "code",
   "execution_count": 6,
   "metadata": {
    "colab": {
     "base_uri": "https://localhost:8080/",
     "height": 334
    },
    "colab_type": "code",
    "id": "GwPSgqig6UKH",
    "outputId": "27605375-052b-4a5d-dc71-119374e83113"
   },
   "outputs": [
    {
     "name": "stdout",
     "output_type": "stream",
     "text": [
      "Model: \"sequential\"\n",
      "_________________________________________________________________\n",
      "Layer (type)                 Output Shape              Param #   \n",
      "=================================================================\n",
      "conv2d (Conv2D)              (None, 14, 14, 16)        160       \n",
      "_________________________________________________________________\n",
      "conv2d_1 (Conv2D)            (None, 7, 7, 8)           1160      \n",
      "_________________________________________________________________\n",
      "conv2d_2 (Conv2D)            (None, 7, 7, 8)           584       \n",
      "_________________________________________________________________\n",
      "conv2d_transpose (Conv2DTran (None, 14, 14, 16)        1168      \n",
      "_________________________________________________________________\n",
      "conv2d_transpose_1 (Conv2DTr (None, 28, 28, 1)         145       \n",
      "=================================================================\n",
      "Total params: 3,217\n",
      "Trainable params: 3,217\n",
      "Non-trainable params: 0\n",
      "_________________________________________________________________\n",
      "None\n"
     ]
    }
   ],
   "source": [
    "model = tf.keras.models.Sequential()\n",
    "\n",
    "# Encoder\n",
    "model.add(tf.keras.layers.Conv2D(filters = 16, kernel_size = 3, strides = 2, padding = 'same', input_shape = (28, 28, 1)))\n",
    "model.add(tf.keras.layers.Conv2D(filters = 8, kernel_size = 3, strides = 2, padding = 'same'))\n",
    "\n",
    "# Encoded image\n",
    "model.add(tf.keras.layers.Conv2D(filters = 8, kernel_size = 3, strides = 1, padding = 'same'))\n",
    "\n",
    "# Decoder\n",
    "model.add(tf.keras.layers.Conv2DTranspose(filters = 16, kernel_size = 3, strides = 2, padding = 'same'))\n",
    "model.add(tf.keras.layers.Conv2DTranspose(filters = 1, kernel_size = 3, strides = 2, activation = 'sigmoid', padding = 'same'))\n",
    "\n",
    "# Compile the model\n",
    "model.compile(loss = 'binary_crossentropy', optimizer=tf.keras.optimizers.Adam(lr = 0.001))\n",
    "\n",
    "print(model.summary())"
   ]
  },
  {
   "cell_type": "markdown",
   "metadata": {
    "colab_type": "text",
    "id": "jJ4nc0-66_N7"
   },
   "source": [
    "# Training"
   ]
  },
  {
   "cell_type": "code",
   "execution_count": 7,
   "metadata": {
    "colab": {
     "base_uri": "https://localhost:8080/",
     "height": 1000
    },
    "colab_type": "code",
    "id": "blkQTPgW6UQi",
    "outputId": "19cfbab7-65b9-42a6-b077-ffcc2656e076"
   },
   "outputs": [
    {
     "name": "stdout",
     "output_type": "stream",
     "text": [
      "Train on 60000 samples, validate on 10000 samples\n",
      "Epoch 1/50\n",
      "60000/60000 [==============================] - 6s 105us/sample - loss: 0.2610 - val_loss: 0.1118\n",
      "Epoch 2/50\n",
      "60000/60000 [==============================] - 3s 58us/sample - loss: 0.1013 - val_loss: 0.0939\n",
      "Epoch 3/50\n",
      "60000/60000 [==============================] - 3s 56us/sample - loss: 0.0926 - val_loss: 0.0899\n",
      "Epoch 4/50\n",
      "60000/60000 [==============================] - 3s 57us/sample - loss: 0.0900 - val_loss: 0.0884\n",
      "Epoch 5/50\n",
      "60000/60000 [==============================] - 3s 57us/sample - loss: 0.0888 - val_loss: 0.0875\n",
      "Epoch 6/50\n",
      "60000/60000 [==============================] - 3s 56us/sample - loss: 0.0881 - val_loss: 0.0869\n",
      "Epoch 7/50\n",
      "60000/60000 [==============================] - 3s 57us/sample - loss: 0.0875 - val_loss: 0.0865\n",
      "Epoch 8/50\n",
      "60000/60000 [==============================] - 3s 56us/sample - loss: 0.0871 - val_loss: 0.0861\n",
      "Epoch 9/50\n",
      "60000/60000 [==============================] - 3s 57us/sample - loss: 0.0867 - val_loss: 0.0858\n",
      "Epoch 10/50\n",
      "60000/60000 [==============================] - 3s 57us/sample - loss: 0.0865 - val_loss: 0.0856\n",
      "Epoch 11/50\n",
      "60000/60000 [==============================] - 3s 56us/sample - loss: 0.0863 - val_loss: 0.0854\n",
      "Epoch 12/50\n",
      "60000/60000 [==============================] - 3s 56us/sample - loss: 0.0862 - val_loss: 0.0854\n",
      "Epoch 13/50\n",
      "60000/60000 [==============================] - 3s 57us/sample - loss: 0.0860 - val_loss: 0.0852\n",
      "Epoch 14/50\n",
      "60000/60000 [==============================] - 3s 58us/sample - loss: 0.0859 - val_loss: 0.0851\n",
      "Epoch 15/50\n",
      "60000/60000 [==============================] - 4s 59us/sample - loss: 0.0858 - val_loss: 0.0850\n",
      "Epoch 16/50\n",
      "60000/60000 [==============================] - 3s 58us/sample - loss: 0.0857 - val_loss: 0.0850\n",
      "Epoch 17/50\n",
      "60000/60000 [==============================] - 3s 57us/sample - loss: 0.0857 - val_loss: 0.0848\n",
      "Epoch 18/50\n",
      "60000/60000 [==============================] - 3s 58us/sample - loss: 0.0856 - val_loss: 0.0848\n",
      "Epoch 19/50\n",
      "60000/60000 [==============================] - 3s 58us/sample - loss: 0.0855 - val_loss: 0.0848\n",
      "Epoch 20/50\n",
      "60000/60000 [==============================] - 3s 57us/sample - loss: 0.0855 - val_loss: 0.0848\n",
      "Epoch 21/50\n",
      "60000/60000 [==============================] - 3s 56us/sample - loss: 0.0855 - val_loss: 0.0847\n",
      "Epoch 22/50\n",
      "60000/60000 [==============================] - 3s 56us/sample - loss: 0.0854 - val_loss: 0.0847\n",
      "Epoch 23/50\n",
      "60000/60000 [==============================] - 3s 58us/sample - loss: 0.0854 - val_loss: 0.0847\n",
      "Epoch 24/50\n",
      "60000/60000 [==============================] - 3s 57us/sample - loss: 0.0854 - val_loss: 0.0846\n",
      "Epoch 25/50\n",
      "60000/60000 [==============================] - 3s 57us/sample - loss: 0.0854 - val_loss: 0.0846\n",
      "Epoch 26/50\n",
      "60000/60000 [==============================] - 3s 58us/sample - loss: 0.0853 - val_loss: 0.0846\n",
      "Epoch 27/50\n",
      "60000/60000 [==============================] - 3s 58us/sample - loss: 0.0853 - val_loss: 0.0846\n",
      "Epoch 28/50\n",
      "60000/60000 [==============================] - 3s 56us/sample - loss: 0.0853 - val_loss: 0.0846\n",
      "Epoch 29/50\n",
      "60000/60000 [==============================] - 3s 58us/sample - loss: 0.0853 - val_loss: 0.0845\n",
      "Epoch 30/50\n",
      "60000/60000 [==============================] - 3s 58us/sample - loss: 0.0853 - val_loss: 0.0845\n",
      "Epoch 31/50\n",
      "60000/60000 [==============================] - 3s 57us/sample - loss: 0.0853 - val_loss: 0.0845\n",
      "Epoch 32/50\n",
      "60000/60000 [==============================] - 3s 57us/sample - loss: 0.0853 - val_loss: 0.0846\n",
      "Epoch 33/50\n",
      "60000/60000 [==============================] - 3s 58us/sample - loss: 0.0852 - val_loss: 0.0845\n",
      "Epoch 34/50\n",
      "60000/60000 [==============================] - 3s 56us/sample - loss: 0.0852 - val_loss: 0.0845\n",
      "Epoch 35/50\n",
      "60000/60000 [==============================] - 3s 57us/sample - loss: 0.0852 - val_loss: 0.0845\n",
      "Epoch 36/50\n",
      "60000/60000 [==============================] - 3s 58us/sample - loss: 0.0852 - val_loss: 0.0845\n",
      "Epoch 37/50\n",
      "60000/60000 [==============================] - 3s 57us/sample - loss: 0.0852 - val_loss: 0.0844\n",
      "Epoch 38/50\n",
      "60000/60000 [==============================] - 3s 56us/sample - loss: 0.0852 - val_loss: 0.0845\n",
      "Epoch 39/50\n",
      "60000/60000 [==============================] - 3s 57us/sample - loss: 0.0852 - val_loss: 0.0844\n",
      "Epoch 40/50\n",
      "60000/60000 [==============================] - 3s 57us/sample - loss: 0.0852 - val_loss: 0.0844\n",
      "Epoch 41/50\n",
      "60000/60000 [==============================] - 3s 58us/sample - loss: 0.0852 - val_loss: 0.0844\n",
      "Epoch 42/50\n",
      "60000/60000 [==============================] - 3s 58us/sample - loss: 0.0851 - val_loss: 0.0844\n",
      "Epoch 43/50\n",
      "60000/60000 [==============================] - 3s 57us/sample - loss: 0.0852 - val_loss: 0.0844\n",
      "Epoch 44/50\n",
      "60000/60000 [==============================] - 3s 57us/sample - loss: 0.0851 - val_loss: 0.0844\n",
      "Epoch 45/50\n",
      "60000/60000 [==============================] - 3s 57us/sample - loss: 0.0851 - val_loss: 0.0844\n",
      "Epoch 46/50\n",
      "60000/60000 [==============================] - 3s 58us/sample - loss: 0.0851 - val_loss: 0.0844\n",
      "Epoch 47/50\n",
      "60000/60000 [==============================] - 3s 57us/sample - loss: 0.0851 - val_loss: 0.0844\n",
      "Epoch 48/50\n",
      "60000/60000 [==============================] - 3s 57us/sample - loss: 0.0851 - val_loss: 0.0844\n",
      "Epoch 49/50\n",
      "60000/60000 [==============================] - 3s 58us/sample - loss: 0.0851 - val_loss: 0.0844\n",
      "Epoch 50/50\n",
      "60000/60000 [==============================] - 3s 58us/sample - loss: 0.0851 - val_loss: 0.0843\n"
     ]
    },
    {
     "data": {
      "text/plain": [
       "<tensorflow.python.keras.callbacks.History at 0x7fd6311df7f0>"
      ]
     },
     "execution_count": 7,
     "metadata": {
      "tags": []
     },
     "output_type": "execute_result"
    }
   ],
   "source": [
    "model.fit(noise_dataset.reshape(-1, 28, 28, 1), \n",
    "          X_train.reshape(-1, 28, 28, 1), \n",
    "          epochs=50, \n",
    "          batch_size=200, \n",
    "          validation_data=(noise_test_set.reshape(-1, 28, 28, 1), X_test.reshape(-1, 28, 28, 1)))"
   ]
  },
  {
   "cell_type": "markdown",
   "metadata": {
    "colab_type": "text",
    "id": "QPZUwztj7Fql"
   },
   "source": [
    "# De-noised images"
   ]
  },
  {
   "cell_type": "code",
   "execution_count": null,
   "metadata": {
    "colab": {},
    "colab_type": "code",
    "id": "-QrMLwve7JLF"
   },
   "outputs": [],
   "source": [
    "predicted = model.predict(noise_test_set[:10].reshape(-1, 28, 28, 1))"
   ]
  },
  {
   "cell_type": "code",
   "execution_count": 9,
   "metadata": {
    "colab": {
     "base_uri": "https://localhost:8080/",
     "height": 244
    },
    "colab_type": "code",
    "id": "roY0Whjw7LOp",
    "outputId": "dff20264-f3c9-41fb-a6e0-53af2b69f97c"
   },
   "outputs": [
    {
     "data": {
      "image/png": "[encoded data removed]",
      "text/plain": [
       "<Figure size 1440x288 with 20 Axes>"
      ]
     },
     "metadata": {
      "tags": []
     },
     "output_type": "display_data"
    }
   ],
   "source": [
    "fig, axes = plt.subplots(nrows = 2, ncols = 10, sharex = True, sharey = True, figsize = (20,4))\n",
    "for images, row in zip([noise_test_set[:10], predicted], axes):\n",
    "    for img, ax in zip(images, row):\n",
    "        ax.imshow(img.reshape((28, 28)), cmap = 'Greys_r')\n",
    "        ax.get_xaxis().set_visible(False)\n",
    "        ax.get_yaxis().set_visible(False)"
   ]
  }
 ],
 "metadata": {
  "accelerator": "GPU",
  "colab": {
   "name": "Autoencoder.ipynb",
   "provenance": []
  },
  "kernelspec": {
   "display_name": "Python 3",
   "language": "python",
   "name": "python3"
  },
  "language_info": {
   "codemirror_mode": {
    "name": "ipython",
    "version": 3
   },
   "file_extension": ".py",
   "mimetype": "text/x-python",
   "name": "python",
   "nbconvert_exporter": "python",
   "pygments_lexer": "ipython3",
   "version": "3.7.3"
  }
 },
 "nbformat": 4,
 "nbformat_minor": 4
}
